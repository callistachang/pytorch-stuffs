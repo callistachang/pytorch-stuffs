{
  "nbformat": 4,
  "nbformat_minor": 0,
  "metadata": {
    "colab": {
      "name": "ImageRecognitionTestground.ipynb",
      "provenance": [],
      "toc_visible": true,
      "authorship_tag": "ABX9TyOACI9MIj84UmA4sVEwoxT+",
      "include_colab_link": true
    },
    "kernelspec": {
      "name": "python3",
      "display_name": "Python 3"
    },
    "accelerator": "GPU"
  },
  "cells": [
    {
      "cell_type": "markdown",
      "metadata": {
        "id": "view-in-github",
        "colab_type": "text"
      },
      "source": [
        "<a href=\"https://colab.research.google.com/github/callistachang/pytorch-stuffs/blob/master/cnn_cifar10.ipynb\" target=\"_parent\"><img src=\"https://colab.research.google.com/assets/colab-badge.svg\" alt=\"Open In Colab\"/></a>"
      ]
    },
    {
      "cell_type": "markdown",
      "metadata": {
        "id": "abuu7pE5XmHg",
        "colab_type": "text"
      },
      "source": [
        "## import libraries"
      ]
    },
    {
      "cell_type": "code",
      "metadata": {
        "id": "su_u71v44E-X",
        "colab_type": "code",
        "colab": {
          "base_uri": "https://localhost:8080/",
          "height": 34
        },
        "outputId": "7c76d5f1-d8ba-4eca-9656-4a69541a988d"
      },
      "source": [
        "import torch\n",
        "import torch.nn as nn\n",
        "import torch.nn.functional as F\n",
        "import torchvision\n",
        "import torchvision.transforms as transforms\n",
        "import matplotlib.pyplot as plt\n",
        "import numpy as np\n",
        "\n",
        "# use the GPU if we can\n",
        "device = torch.device('cuda' if torch.cuda.is_available() else 'cpu')\n",
        "print(device)"
      ],
      "execution_count": 1,
      "outputs": [
        {
          "output_type": "stream",
          "text": [
            "cuda\n"
          ],
          "name": "stdout"
        }
      ]
    },
    {
      "cell_type": "markdown",
      "metadata": {
        "id": "WYb-YLrhlhO9",
        "colab_type": "text"
      },
      "source": [
        "## initialize parameters"
      ]
    },
    {
      "cell_type": "code",
      "metadata": {
        "id": "3aae_myAlk3y",
        "colab_type": "code",
        "colab": {}
      },
      "source": [
        "# https://towardsdatascience.com/epoch-vs-iterations-vs-batch-size-4dfb9c7ce9c9\n",
        "\n",
        "# number of times the entire dataset is passed through the network\n",
        "NUM_EPOCHS = 5\n",
        "\n",
        "# number of samples in a batch (/observed together)\n",
        "# the higher, the more memory used\n",
        "BATCH_SIZE = 4\n",
        "\n",
        "# step size during SGD; aka the amount that weights are updated during training\n",
        "# currently, the weights in the network are updated by 0.1% of the estimated weight error each time\n",
        "LEARNING_RATE = 0.001"
      ],
      "execution_count": 2,
      "outputs": []
    },
    {
      "cell_type": "markdown",
      "metadata": {
        "id": "yAPxQUBoXuLf",
        "colab_type": "text"
      },
      "source": [
        "## import datasets"
      ]
    },
    {
      "cell_type": "code",
      "metadata": {
        "id": "Yf9YVufNV4uU",
        "colab_type": "code",
        "colab": {
          "base_uri": "https://localhost:8080/",
          "height": 50
        },
        "outputId": "dc156dbf-7e43-496c-9675-16b4eb11f476"
      },
      "source": [
        "# the dataset has PIL images of range [0, 1]\n",
        "# we want to transform them to tensors with normalized range [-1, 1]\n",
        "transform = transforms.Compose([transforms.ToTensor(), transforms.Normalize((0.5, 0.5, 0.5), (0.5, 0.5, 0.5))])\n",
        "\n",
        "# CIFAR10 : 60k 32x32 color images in 10 equally divided classes\n",
        "train_dataset = torchvision.datasets.CIFAR10(root='./data', train=True, download=True, transform=transform)\n",
        "test_dataset = torchvision.datasets.CIFAR10(root='./data', train=False, download=True, transform=transform)\n",
        "\n",
        "train_loader = torch.utils.data.DataLoader(dataset=train_dataset, batch_size=BATCH_SIZE, shuffle=True)\n",
        "test_loader = torch.utils.data.DataLoader(dataset=test_dataset, batch_size=BATCH_SIZE, shuffle=False)\n",
        "\n",
        "CLASSES = ('plane', 'car', 'bird', 'cat', 'deer', 'dog', 'frog', 'horse', 'ship', 'truck')"
      ],
      "execution_count": 3,
      "outputs": [
        {
          "output_type": "stream",
          "text": [
            "Files already downloaded and verified\n",
            "Files already downloaded and verified\n"
          ],
          "name": "stdout"
        }
      ]
    },
    {
      "cell_type": "markdown",
      "metadata": {
        "id": "cOtZE7yfXy2v",
        "colab_type": "text"
      },
      "source": [
        "## create neural network class"
      ]
    },
    {
      "cell_type": "code",
      "metadata": {
        "id": "PQv32wBLXH7W",
        "colab_type": "code",
        "colab": {}
      },
      "source": [
        "class Net(nn.Module):\n",
        "  def __init__(self):\n",
        "    super(Net, self).__init__()\n",
        "    # in_channels = 3 because RGB\n",
        "    self.conv1 = nn.Conv2d(in_channels=3, out_channels=6, kernel_size=5)\n",
        "    self.conv2 = nn.Conv2d(in_channels=6, out_channels=16, kernel_size=5)\n",
        "    # in_features = 16*5*5 because it's the 5x5 filter with depth=16\n",
        "    self.fc1 = nn.Linear(in_features=16*5*5, out_features=120)\n",
        "    self.fc2 = nn.Linear(in_features=120, out_features=84)\n",
        "    # out_channels = 10 because there are 10 possible classes\n",
        "    self.fc3 = nn.Linear(in_features=84, out_features=10)\n",
        "    \n",
        "    # the size of the pool is 2x2\n",
        "    # when the pool is 'moved', it is moved 2 to the side, hence stride = 2 (no overlapping)\n",
        "    self.pool = nn.MaxPool2d(kernel_size=2, stride=2)\n",
        "\n",
        "  def forward(self, x):\n",
        "    x = self.pool(F.relu(self.conv1(x)))\n",
        "    x = self.pool(F.relu(self.conv2(x)))\n",
        "\n",
        "    \"\"\"\n",
        "    https://stackoverflow.com/questions/42479902/how-does-the-view-method-work-in-pytorch\n",
        "    Say that a = torch.range(1, 16), creating a 1x16 tensor.\n",
        "    If you wanted to reshape it to a 4x4 tensor, you can use a = a.view(4, 4).\n",
        "    If you know the amount of columns you need but not the rows, that's where you use the -1 parameter.\n",
        "    \"\"\"\n",
        "    x = x.view(-1, 16*5*5)\n",
        "\n",
        "    x = F.relu(self.fc1(x))\n",
        "    x = F.relu(self.fc2(x))\n",
        "    x = self.fc3(x)\n",
        "    return x"
      ],
      "execution_count": 4,
      "outputs": []
    },
    {
      "cell_type": "markdown",
      "metadata": {
        "id": "-3bp1qA8btkx",
        "colab_type": "text"
      },
      "source": [
        "# initialize the model, criterion for calculating loss and algorithm for optimizing the neural network"
      ]
    },
    {
      "cell_type": "code",
      "metadata": {
        "id": "M7Wz8dBBbfBA",
        "colab_type": "code",
        "colab": {}
      },
      "source": [
        "model = Net().to(device)\n",
        "\n",
        "criterion = nn.CrossEntropyLoss()\n",
        "optimizer = torch.optim.SGD(model.parameters(), lr=LEARNING_RATE)"
      ],
      "execution_count": 5,
      "outputs": []
    },
    {
      "cell_type": "markdown",
      "metadata": {
        "id": "X0uMkmMLcRTv",
        "colab_type": "text"
      },
      "source": [
        "# train the model"
      ]
    },
    {
      "cell_type": "code",
      "metadata": {
        "id": "MD5dgkaqcWNg",
        "colab_type": "code",
        "colab": {
          "base_uri": "https://localhost:8080/",
          "height": 554
        },
        "outputId": "5e9efd7d-34ca-48d7-86eb-09f151883f5a"
      },
      "source": [
        "for epoch in range(NUM_EPOCHS):\n",
        "  # enumerates through, batch by batch\n",
        "  for i, (images, labels) in enumerate(train_loader):\n",
        "    images = images.to(device)\n",
        "    labels = labels.to(device)\n",
        "\n",
        "    # 1) forward pass\n",
        "    outputs = model(images)\n",
        "\n",
        "    # 2) calculate loss by comparing predicted vs. actual\n",
        "    loss = criterion(outputs, labels)\n",
        "\n",
        "    # 3) backpropagation\n",
        "    optimizer.zero_grad() # clear gradients\n",
        "    loss.backward()       \n",
        "    optimizer.step()\n",
        "\n",
        "    if (i+1) % 2000 == 0:\n",
        "      print(f'Epoch [{epoch+1}/{NUM_EPOCHS}], Step [{i+1}/{len(train_loader)}], Loss: {loss.item():.4f}')\n",
        "\n",
        "print(\"===\")\n",
        "print(\"Finished training\")\n",
        "\n",
        "torch.save(model.state_dict(), './cnn.pth')"
      ],
      "execution_count": null,
      "outputs": [
        {
          "output_type": "stream",
          "text": [
            "Epoch [1/5], Step [2000/12500], Loss: 2.3073\n",
            "Epoch [1/5], Step [4000/12500], Loss: 2.3162\n",
            "Epoch [1/5], Step [6000/12500], Loss: 2.2797\n",
            "Epoch [1/5], Step [8000/12500], Loss: 2.2802\n",
            "Epoch [1/5], Step [10000/12500], Loss: 2.2679\n",
            "Epoch [1/5], Step [12000/12500], Loss: 2.0668\n",
            "Epoch [2/5], Step [2000/12500], Loss: 2.0742\n",
            "Epoch [2/5], Step [4000/12500], Loss: 2.2769\n",
            "Epoch [2/5], Step [6000/12500], Loss: 2.1161\n",
            "Epoch [2/5], Step [8000/12500], Loss: 2.1132\n",
            "Epoch [2/5], Step [10000/12500], Loss: 2.1617\n",
            "Epoch [2/5], Step [12000/12500], Loss: 1.8172\n",
            "Epoch [3/5], Step [2000/12500], Loss: 1.8847\n",
            "Epoch [3/5], Step [4000/12500], Loss: 1.2473\n",
            "Epoch [3/5], Step [6000/12500], Loss: 2.3333\n",
            "Epoch [3/5], Step [8000/12500], Loss: 1.3391\n",
            "Epoch [3/5], Step [10000/12500], Loss: 2.0433\n",
            "Epoch [3/5], Step [12000/12500], Loss: 1.7008\n",
            "Epoch [4/5], Step [2000/12500], Loss: 2.0504\n",
            "Epoch [4/5], Step [4000/12500], Loss: 1.0061\n",
            "Epoch [4/5], Step [6000/12500], Loss: 2.1933\n",
            "Epoch [4/5], Step [8000/12500], Loss: 0.9504\n",
            "Epoch [4/5], Step [10000/12500], Loss: 1.8319\n",
            "Epoch [4/5], Step [12000/12500], Loss: 1.5658\n",
            "Epoch [5/5], Step [2000/12500], Loss: 0.7635\n",
            "Epoch [5/5], Step [4000/12500], Loss: 1.8619\n",
            "Epoch [5/5], Step [6000/12500], Loss: 0.6619\n",
            "Epoch [5/5], Step [8000/12500], Loss: 1.4329\n",
            "Epoch [5/5], Step [10000/12500], Loss: 1.5720\n",
            "Epoch [5/5], Step [12000/12500], Loss: 1.4406\n",
            "===\n",
            "Finished training\n"
          ],
          "name": "stdout"
        }
      ]
    },
    {
      "cell_type": "markdown",
      "metadata": {
        "id": "h2FjyrZ4Otio",
        "colab_type": "text"
      },
      "source": [
        "# test the model"
      ]
    },
    {
      "cell_type": "code",
      "metadata": {
        "id": "njckl8qVgKcK",
        "colab_type": "code",
        "colab": {
          "base_uri": "https://localhost:8080/",
          "height": 202
        },
        "outputId": "00961e2f-19db-4925-968a-32165fab6f39"
      },
      "source": [
        "model = Net().to(device)\n",
        "model.load_state_dict(torch.load('./cnn.pth'))\n",
        "model.eval()\n",
        "\n",
        "with torch.no_grad():\n",
        "  num_samples = 0\n",
        "  num_correct = 0\n",
        "  num_class_samples = [0 for i in range(10)]\n",
        "  num_class_correct = [0 for i in range(10)]\n",
        "\n",
        "  # iterate through all batches (containing BATCH_SIZE=4 samples each) in the test_dataset\n",
        "  for images, labels in test_loader:\n",
        "    images = images.to(device)\n",
        "\n",
        "    \"\"\"\n",
        "    A 1x4 tensor containing the correct answers for 4 images\n",
        "    E.g. tensor([3, 8, 8, 8])\n",
        "    \"\"\"\n",
        "    labels = labels.to(device)\n",
        "\n",
        "    \"\"\"\n",
        "    A 4x10 tensor containing the forward-passed outputs (10 of them, because 10 classes) for 4 images\n",
        "    Each output is between -1 to 1\n",
        "    \"\"\"\n",
        "    outputs = model(images)\n",
        "\n",
        "    \"\"\"\n",
        "    Translates the 4x10 tensor to the format of a 1x4 tensor\n",
        "    by selecting the maximum value out of the 10 values \n",
        "    in the form of (values, indices).\n",
        "    We only need to take the indices to get the class that it chose.\n",
        "    \"\"\"\n",
        "    _, preds = torch.max(input=outputs, dim=1)\n",
        "\n",
        "    num_samples += labels.size(0)\n",
        "    num_correct += (preds == labels).sum().item()\n",
        "\n",
        "    for i in range(BATCH_SIZE):\n",
        "      label = labels[i]\n",
        "      pred = preds[i]\n",
        "      if label == pred:\n",
        "        num_class_correct[label] += 1\n",
        "      num_class_samples[label] += 1\n",
        "\n",
        "  accuracy = num_correct / num_samples * 100\n",
        "  print(f'Overall accuracy: {num_correct}/{num_samples} ({accuracy:.2f}%)')\n",
        "\n",
        "  for i in range(10):\n",
        "    accuracy_class = num_class_correct[i] / num_class_samples[i] * 100\n",
        "    print(f'Accuracy of predicting {CLASSES[i]}: {num_class_correct[i]}/{num_class_samples[i]} ({accuracy_class:.2f}%)')"
      ],
      "execution_count": 21,
      "outputs": [
        {
          "output_type": "stream",
          "text": [
            "Overall accuracy: 4836/10000 (48.36%)\n",
            "Accuracy of predicting plane: 543/1000 (54.30%)\n",
            "Accuracy of predicting car: 656/1000 (65.60%)\n",
            "Accuracy of predicting bird: 260/1000 (26.00%)\n",
            "Accuracy of predicting cat: 221/1000 (22.10%)\n",
            "Accuracy of predicting deer: 323/1000 (32.30%)\n",
            "Accuracy of predicting dog: 458/1000 (45.80%)\n",
            "Accuracy of predicting frog: 727/1000 (72.70%)\n",
            "Accuracy of predicting horse: 614/1000 (61.40%)\n",
            "Accuracy of predicting ship: 602/1000 (60.20%)\n",
            "Accuracy of predicting truck: 432/1000 (43.20%)\n"
          ],
          "name": "stdout"
        }
      ]
    }
  ]
}